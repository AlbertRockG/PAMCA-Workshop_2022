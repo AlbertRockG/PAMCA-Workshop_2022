{
  "cells": [
    {
      "cell_type": "code",
      "execution_count": null,
      "metadata": {
        "colab": {
          "base_uri": "https://localhost:8080/"
        },
        "id": "GC2pIbopJQVe",
        "outputId": "9173673a-2dbe-4c3e-ee71-159dd0d2b2d8"
      },
      "outputs": [
        {
          "name": "stdout",
          "output_type": "stream",
          "text": [
            "Hello Wolrd!\n"
          ]
        }
      ],
      "source": [
        "print(\"Hello Wolrd!\")"
      ]
    },
    {
      "cell_type": "code",
      "execution_count": null,
      "metadata": {
        "id": "0BnwZW7aJ_bA"
      },
      "outputs": [],
      "source": [
        "foo = 42"
      ]
    },
    {
      "cell_type": "code",
      "execution_count": null,
      "metadata": {
        "colab": {
          "base_uri": "https://localhost:8080/"
        },
        "id": "eYJbz9lnKm8I",
        "outputId": "f6ca2564-06db-4ba8-82ff-a2c2a72c6ffc"
      },
      "outputs": [
        {
          "data": {
            "text/plain": [
              "42"
            ]
          },
          "execution_count": 7,
          "metadata": {},
          "output_type": "execute_result"
        }
      ],
      "source": [
        "foo"
      ]
    },
    {
      "cell_type": "code",
      "execution_count": null,
      "metadata": {
        "colab": {
          "base_uri": "https://localhost:8080/"
        },
        "id": "p3lHM1qtKpyh",
        "outputId": "c36cabb7-8330-4846-f255-c1dacec828e1"
      },
      "outputs": [
        {
          "data": {
            "text/plain": [
              "43"
            ]
          },
          "execution_count": 8,
          "metadata": {},
          "output_type": "execute_result"
        }
      ],
      "source": [
        "foo = foo + 1\n",
        "foo"
      ]
    },
    {
      "cell_type": "code",
      "execution_count": null,
      "metadata": {
        "id": "i8YCBqCjK1oI"
      },
      "outputs": [],
      "source": [
        "import numpy as np"
      ]
    },
    {
      "cell_type": "code",
      "execution_count": null,
      "metadata": {
        "colab": {
          "base_uri": "https://localhost:8080/"
        },
        "id": "gocsh3PaNl-0",
        "outputId": "a4ad9749-69bc-4171-a978-219cc19f0558"
      },
      "outputs": [
        {
          "data": {
            "text/plain": [
              "array([28, 89, 20, 40, 12, 20, 45, 16, 36, 19])"
            ]
          },
          "execution_count": 12,
          "metadata": {},
          "output_type": "execute_result"
        }
      ],
      "source": [
        "y = np.random.randint(low=0, high= 100, size=10)\n",
        "y"
      ]
    },
    {
      "cell_type": "code",
      "execution_count": null,
      "metadata": {
        "colab": {
          "base_uri": "https://localhost:8080/"
        },
        "id": "2kmOXDMBN59V",
        "outputId": "13995008-2930-4820-f222-78c5e7dbd58c"
      },
      "outputs": [
        {
          "name": "stdout",
          "output_type": "stream",
          "text": [
            "\u001b[K     |████████████████████████████████| 153 kB 5.0 MB/s \n",
            "\u001b[K     |████████████████████████████████| 5.7 MB 22.0 MB/s \n",
            "\u001b[K     |████████████████████████████████| 133 kB 50.5 MB/s \n",
            "\u001b[K     |████████████████████████████████| 2.3 MB 45.0 MB/s \n",
            "\u001b[K     |████████████████████████████████| 1.1 MB 48.3 MB/s \n",
            "\u001b[K     |████████████████████████████████| 94 kB 2.8 MB/s \n",
            "\u001b[K     |████████████████████████████████| 144 kB 64.4 MB/s \n",
            "\u001b[K     |████████████████████████████████| 271 kB 53.3 MB/s \n",
            "\u001b[K     |████████████████████████████████| 6.2 MB 34.1 MB/s \n",
            "\u001b[?25h  Building wheel for asciitree (setup.py) ... \u001b[?25l\u001b[?25hdone\n"
          ]
        }
      ],
      "source": [
        "!pip install -q malariagen_data"
      ]
    },
    {
      "cell_type": "code",
      "execution_count": null,
      "metadata": {
        "id": "5MVqc6MrOghp"
      },
      "outputs": [],
      "source": [
        "import malariagen_data"
      ]
    },
    {
      "cell_type": "code",
      "execution_count": null,
      "metadata": {
        "colab": {
          "base_uri": "https://localhost:8080/",
          "height": 217
        },
        "id": "n2mr-eFUOL4A",
        "outputId": "04db165c-7335-4abc-c5b4-79ebd10e2fd4"
      },
      "outputs": [
        {
          "data": {
            "text/html": [
              "\n",
              "            <style type=\"text/css\">\n",
              "                table.malariagen-ag3 th, table.malariagen-ag3 td {\n",
              "                    text-align: left\n",
              "                }\n",
              "            </style>\n",
              "            <table class=\"malariagen-ag3\">\n",
              "                <thead>\n",
              "                    <tr>\n",
              "                        <th colspan=2>MalariaGEN Ag3 data resource API</th>\n",
              "                    </tr>\n",
              "                </thead>\n",
              "                <tbody>\n",
              "                    <tr><th>Storage URL</th><td>gs://vo_agam_release/</td></tr>\n",
              "                    <tr><th>Releases available</th><td>3.0</td></tr>\n",
              "                    <tr><th>Cohorts analysis</th><td>20211101</td></tr>\n",
              "                    <tr><th>Species analysis</th><td>aim_20200422</td></tr>\n",
              "                    <tr><th>Site filters analysis</th><td>dt_20200416</td></tr>\n",
              "                </tbody>\n",
              "            </table>\n",
              "            <p>Please note that data are subject to terms of use,\n",
              "            for more information see <a href=\"https://www.malariagen.net/data\">\n",
              "            the MalariaGEN website</a> or contact data@malariagen.net.</p>\n",
              "            <p>See also the <a href=\"https://malariagen.github.io/vector-data/ag3/api.html\">Ag3 API docs</a>.</p>\n",
              "        "
            ],
            "text/plain": [
              "<MalariaGEN Ag3 data resource API>\n",
              "Storage URL           : gs://vo_agam_release/\n",
              "Releases available    : 3.0\n",
              "Cohorts analysis      : 20211101\n",
              "Species analysis      : aim_20200422\n",
              "Site filters analysis : dt_20200416\n",
              "---\n",
              "Please note that data are subject to terms of use,\n",
              "for more information see https://www.malariagen.net/data\n",
              "or contact data@malariagen.net.\n",
              "---\n",
              "For API documentation see https://malariagen.github.io/vector-data/ag3/api.html"
            ]
          },
          "execution_count": 17,
          "metadata": {},
          "output_type": "execute_result"
        }
      ],
      "source": [
        "ag3 = malariagen_data.Ag3()\n",
        "ag3"
      ]
    },
    {
      "cell_type": "code",
      "execution_count": null,
      "metadata": {
        "id": "mYEkqUxrSrkd"
      },
      "outputs": [],
      "source": [
        "df_samples = ag3.sample_metadata(sample_sets=\"3.0\")"
      ]
    },
    {
      "cell_type": "code",
      "execution_count": null,
      "metadata": {
        "colab": {
          "background_save": true,
          "base_uri": "https://localhost:8080/"
        },
        "id": "xeMWhCgqS4Tu",
        "outputId": "3aa0ff64-9821-476b-c29c-a899d64796dc"
      },
      "outputs": [
        {
          "data": {
            "text/plain": [
              "pandas.core.frame.DataFrame"
            ]
          },
          "execution_count": null,
          "metadata": {},
          "output_type": "execute_result"
        }
      ],
      "source": [
        "type(df_samples)"
      ]
    },
    {
      "cell_type": "code",
      "execution_count": null,
      "metadata": {
        "id": "ML3jeZmyTGLr"
      },
      "outputs": [],
      "source": [
        "!pip install -q malariagen_data seaborn"
      ]
    },
    {
      "cell_type": "markdown",
      "source": [
        "import bokeh.io\n",
        "import bokeh.layouts\n",
        "import bokeh.models\n",
        "import bokeh.palettes\n",
        "import bokeh.plotting\n",
        "import malariagen_data\n",
        "import matplotlib.pyplot as plt\n",
        "import numpy as np\n",
        "import pandas as pd \n",
        "import seaborn as sns\n",
        "from bokeh.io import output_notebook\n",
        "from bokeh.resources import INLINE\n",
        "\n",
        "output_notebook(resources=INLINE)\n",
        "\n",
        "from collections import Counter "
      ],
      "metadata": {
        "id": "ibJxaSa_6aFy"
      }
    },
    {
      "cell_type": "code",
      "source": [
        "ag3 = malariagen_data.Ag3()\n",
        "ag3"
      ],
      "metadata": {
        "colab": {
          "base_uri": "https://localhost:8080/",
          "height": 200
        },
        "id": "FofSdD3o7jEM",
        "outputId": "00af3026-6567-430a-df88-1061e1f4e742"
      },
      "execution_count": null,
      "outputs": [
        {
          "output_type": "execute_result",
          "data": {
            "text/html": [
              "\n",
              "            <style type=\"text/css\">\n",
              "                table.malariagen-ag3 th, table.malariagen-ag3 td {\n",
              "                    text-align: left\n",
              "                }\n",
              "            </style>\n",
              "            <table class=\"malariagen-ag3\">\n",
              "                <thead>\n",
              "                    <tr>\n",
              "                        <th colspan=2>MalariaGEN Ag3 data resource API</th>\n",
              "                    </tr>\n",
              "                </thead>\n",
              "                <tbody>\n",
              "                    <tr><th>Storage URL</th><td>gs://vo_agam_release/</td></tr>\n",
              "                    <tr><th>Releases available</th><td>3.0</td></tr>\n",
              "                    <tr><th>Cohorts analysis</th><td>20211101</td></tr>\n",
              "                    <tr><th>Species analysis</th><td>aim_20200422</td></tr>\n",
              "                    <tr><th>Site filters analysis</th><td>dt_20200416</td></tr>\n",
              "                </tbody>\n",
              "            </table>\n",
              "            <p>Please note that data are subject to terms of use,\n",
              "            for more information see <a href=\"https://www.malariagen.net/data\">\n",
              "            the MalariaGEN website</a> or contact data@malariagen.net.</p>\n",
              "            <p>See also the <a href=\"https://malariagen.github.io/vector-data/ag3/api.html\">Ag3 API docs</a>.</p>\n",
              "        "
            ],
            "text/plain": [
              "<MalariaGEN Ag3 data resource API>\n",
              "Storage URL           : gs://vo_agam_release/\n",
              "Releases available    : 3.0\n",
              "Cohorts analysis      : 20211101\n",
              "Species analysis      : aim_20200422\n",
              "Site filters analysis : dt_20200416\n",
              "---\n",
              "Please note that data are subject to terms of use,\n",
              "for more information see https://www.malariagen.net/data\n",
              "or contact data@malariagen.net.\n",
              "---\n",
              "For API documentation see https://malariagen.github.io/vector-data/ag3/api.html"
            ]
          },
          "metadata": {},
          "execution_count": 32
        }
      ]
    },
    {
      "cell_type": "code",
      "source": [
        ""
      ],
      "metadata": {
        "id": "AEN7DtMwT1wG"
      },
      "execution_count": null,
      "outputs": []
    },
    {
      "cell_type": "code",
      "source": [
        "ag3.contigs"
      ],
      "metadata": {
        "colab": {
          "base_uri": "https://localhost:8080/"
        },
        "id": "xv5yNkt77tik",
        "outputId": "2794dd70-8bd8-42a8-f902-cd3e05473a1b"
      },
      "execution_count": null,
      "outputs": [
        {
          "output_type": "execute_result",
          "data": {
            "text/plain": [
              "('2R', '2L', '3R', '3L', 'X')"
            ]
          },
          "metadata": {},
          "execution_count": 33
        }
      ]
    },
    {
      "cell_type": "code",
      "source": [
        "seq = ag3.genome_sequence(\"2L\").compute()\n",
        "seq[:100]"
      ],
      "metadata": {
        "colab": {
          "base_uri": "https://localhost:8080/"
        },
        "id": "C1BghDwM8xff",
        "outputId": "bd3795d6-2e96-4e15-f05c-64b4782583ce"
      },
      "execution_count": null,
      "outputs": [
        {
          "output_type": "execute_result",
          "data": {
            "text/plain": [
              "array([b'a', b'a', b'c', b'c', b'a', b't', b'g', b'g', b't', b'c', b'c',\n",
              "       b'a', b'g', b'a', b'g', b't', b'a', b'c', b'a', b'c', b'a', b't',\n",
              "       b't', b'g', b'a', b'c', b't', b'a', b't', b'g', b'c', b'a', b'g',\n",
              "       b'g', b'c', b'c', b't', b'a', b'g', b't', b'a', b'g', b'a', b'c',\n",
              "       b'g', b'a', b'a', b't', b't', b'c', b't', b'a', b'c', b't', b't',\n",
              "       b'c', b'c', b't', b't', b'g', b't', b'a', b'a', b't', b'c', b'g',\n",
              "       b't', b'g', b'g', b'a', b't', b'c', b'c', b'a', b'c', b'a', b'c',\n",
              "       b't', b'c', b'g', b'a', b'a', b'a', b't', b'g', b'g', b'c', b'c',\n",
              "       b'g', b'g', b'a', b'a', b'g', b't', b't', b't', b'a', b'c', b'g',\n",
              "       b'c'], dtype='|S1')"
            ]
          },
          "metadata": {},
          "execution_count": 38
        }
      ]
    },
    {
      "cell_type": "markdown",
      "source": [
        "seq = ag3.genome_sequence(\"2L\").compute()\n",
        "seq[:100]"
      ],
      "metadata": {
        "id": "cD28JU61781R"
      }
    },
    {
      "cell_type": "code",
      "source": [
        "seq[9]"
      ],
      "metadata": {
        "colab": {
          "base_uri": "https://localhost:8080/"
        },
        "id": "X3bR38lr8NNI",
        "outputId": "0db093e9-17b4-4d76-cbfb-7df9bc8520a9"
      },
      "execution_count": null,
      "outputs": [
        {
          "output_type": "execute_result",
          "data": {
            "text/plain": [
              "b'c'"
            ]
          },
          "metadata": {},
          "execution_count": 39
        }
      ]
    },
    {
      "cell_type": "code",
      "source": [
        "def count_nucleotides(contig):\n",
        "  seq = ag3.genome_sequence(contig).compute()\n",
        "  return Counter(seq).most_common()\n",
        "\n",
        "  "
      ],
      "metadata": {
        "id": "1djmH5Pj8QGa"
      },
      "execution_count": null,
      "outputs": []
    },
    {
      "cell_type": "code",
      "source": [
        "count_nucleotides(\"2L\")"
      ],
      "metadata": {
        "colab": {
          "base_uri": "https://localhost:8080/"
        },
        "id": "vqev2mHK86Ac",
        "outputId": "cc903f56-6705-4470-f4ce-d5ea60b5bddc"
      },
      "execution_count": null,
      "outputs": [
        {
          "output_type": "execute_result",
          "data": {
            "text/plain": [
              "[(b'T', 11398889),\n",
              " (b'A', 11394851),\n",
              " (b'C', 9348150),\n",
              " (b'G', 9341894),\n",
              " (b't', 2086607),\n",
              " (b'a', 2078364),\n",
              " (b'g', 1444984),\n",
              " (b'c', 1432008),\n",
              " (b'n', 838575),\n",
              " (b'N', 3)]"
            ]
          },
          "metadata": {},
          "execution_count": 41
        }
      ]
    }
  ],
  "metadata": {
    "colab": {
      "name": "PAMCA WORKSHOP 1",
      "provenance": []
    },
    "kernelspec": {
      "display_name": "Python 3",
      "name": "python3"
    },
    "language_info": {
      "name": "python"
    }
  },
  "nbformat": 4,
  "nbformat_minor": 0
}